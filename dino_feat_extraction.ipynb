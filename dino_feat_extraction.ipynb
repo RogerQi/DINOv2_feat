{
 "cells": [
  {
   "cell_type": "code",
   "execution_count": 1,
   "id": "fddbc18f-a684-4b2a-8a13-371be79d3251",
   "metadata": {},
   "outputs": [],
   "source": [
    "import torch\n",
    "from PIL import Image\n",
    "import torchvision.transforms as T"
   ]
  },
  {
   "cell_type": "code",
   "execution_count": 2,
   "id": "b4a69f92-0181-4262-b4de-72403c6cde2f",
   "metadata": {},
   "outputs": [
    {
     "name": "stderr",
     "output_type": "stream",
     "text": [
      "Using cache found in /home/roger/.cache/torch/hub/facebookresearch_dinov2_main\n",
      "xFormers not available\n",
      "xFormers not available\n"
     ]
    }
   ],
   "source": [
    "dinov2 = torch.hub.load('facebookresearch/dinov2', 'dinov2_vits14')"
   ]
  },
  {
   "cell_type": "code",
   "execution_count": 3,
   "id": "38f8b4e8",
   "metadata": {},
   "outputs": [],
   "source": [
    "def interpolate_to_patch_size(img_bchw, patch_size):\n",
    "    # Interpolate the image so that H and W are multiples of the patch size\n",
    "    _, _, H, W = img_bchw.shape\n",
    "    target_H = H // patch_size * patch_size\n",
    "    target_W = W // patch_size * patch_size\n",
    "    img_bchw = torch.nn.functional.interpolate(img_bchw, size=(target_H, target_W))\n",
    "    return img_bchw, target_H, target_W"
   ]
  },
  {
   "cell_type": "code",
   "execution_count": 4,
   "id": "ddded83f-328d-447d-ba8b-0babd193360b",
   "metadata": {},
   "outputs": [
    {
     "name": "stdout",
     "output_type": "stream",
     "text": [
      "(496, 322)\n",
      "torch.Size([1, 3, 322, 496])\n",
      "torch.Size([1, 3, 322, 490])\n"
     ]
    }
   ],
   "source": [
    "img = Image.open('meta_dog.png')\n",
    "\n",
    "print(img.size)\n",
    "\n",
    "transform = T.Compose([\n",
    "    T.ToTensor(),\n",
    "    T.Normalize(mean=[0.5], std=[0.5]),\n",
    "])\n",
    "\n",
    "img = transform(img)[:3].unsqueeze(0)\n",
    "\n",
    "print(img.shape)\n",
    "\n",
    "img, target_H, target_W = interpolate_to_patch_size(img, dinov2.patch_size)\n",
    "\n",
    "print(img.shape)"
   ]
  },
  {
   "cell_type": "code",
   "execution_count": 5,
   "id": "ddc1a37c-f2bf-4683-aa1f-7cbfb954c4c0",
   "metadata": {},
   "outputs": [
    {
     "name": "stdout",
     "output_type": "stream",
     "text": [
      "torch.Size([805, 384])\n"
     ]
    }
   ],
   "source": [
    "with torch.no_grad():\n",
    "    features = dinov2.forward_features(img)[\"x_norm_patchtokens\"][0]\n",
    "    print(features.shape)"
   ]
  },
  {
   "cell_type": "code",
   "execution_count": 6,
   "id": "09952b17-877f-4ca8-8fe8-2603c2bc5917",
   "metadata": {},
   "outputs": [
    {
     "data": {
      "text/plain": [
       "torch.Size([805, 384])"
      ]
     },
     "execution_count": 6,
     "metadata": {},
     "output_type": "execute_result"
    }
   ],
   "source": [
    "features.shape"
   ]
  },
  {
   "cell_type": "code",
   "execution_count": 7,
   "id": "77af964e",
   "metadata": {},
   "outputs": [
    {
     "name": "stdout",
     "output_type": "stream",
     "text": [
      "torch.Size([384, 23, 35])\n"
     ]
    }
   ],
   "source": [
    "features_hwc = features.reshape((target_H // dinov2.patch_size, target_W // dinov2.patch_size, -1))\n",
    "features_chw = features_hwc.permute(2, 0, 1)\n",
    "print(features_chw.shape)"
   ]
  },
  {
   "cell_type": "code",
   "execution_count": 8,
   "id": "4e335741-5bb3-4b7c-bd6b-b4108477bbd2",
   "metadata": {},
   "outputs": [
    {
     "data": {
      "text/plain": [
       "<matplotlib.image.AxesImage at 0x7f24e821ac10>"
      ]
     },
     "execution_count": 8,
     "metadata": {},
     "output_type": "execute_result"
    },
    {
     "data": {
      "image/png": "[encoded data removed]",
      "text/plain": [
       "<Figure size 640x480 with 1 Axes>"
      ]
     },
     "metadata": {},
     "output_type": "display_data"
    }
   ],
   "source": [
    "import matplotlib.pyplot as plt\n",
    "import numpy as np\n",
    "from sklearn.decomposition import PCA\n",
    "\n",
    "pca = PCA(n_components=3)\n",
    "pca.fit(features)\n",
    "\n",
    "pca_features = pca.transform(features)\n",
    "pca_features = (pca_features - pca_features.min()) / (pca_features.max() - pca_features.min())\n",
    "pca_features = pca_features * 255\n",
    "\n",
    "plt.imshow(pca_features.reshape(target_H // dinov2.patch_size, target_W // dinov2.patch_size, 3).astype(np.uint8))"
   ]
  },
  {
   "cell_type": "code",
   "execution_count": null,
   "id": "3b76a2da",
   "metadata": {},
   "outputs": [],
   "source": []
  }
 ],
 "metadata": {
  "kernelspec": {
   "display_name": "Python 3 (ipykernel)",
   "language": "python",
   "name": "python3"
  },
  "language_info": {
   "codemirror_mode": {
    "name": "ipython",
    "version": 3
   },
   "file_extension": ".py",
   "mimetype": "text/x-python",
   "name": "python",
   "nbconvert_exporter": "python",
   "pygments_lexer": "ipython3",
   "version": "3.8.17"
  }
 },
 "nbformat": 4,
 "nbformat_minor": 5
}
