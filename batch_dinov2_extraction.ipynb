{
 "cells": [
  {
   "cell_type": "code",
   "execution_count": 1,
   "id": "fddbc18f-a684-4b2a-8a13-371be79d3251",
   "metadata": {},
   "outputs": [],
   "source": [
    "import torch\n",
    "import os\n",
    "from PIL import Image\n",
    "import torchvision.transforms as T\n",
    "from tqdm import tqdm\n",
    "import matplotlib.pyplot as plt\n",
    "import numpy as np\n",
    "from sklearn.decomposition import PCA"
   ]
  },
  {
   "cell_type": "code",
   "execution_count": 2,
   "id": "b4a69f92-0181-4262-b4de-72403c6cde2f",
   "metadata": {},
   "outputs": [
    {
     "name": "stderr",
     "output_type": "stream",
     "text": [
      "Using cache found in /home/roger/.cache/torch/hub/facebookresearch_dinov2_main\n",
      "xFormers not available\n",
      "xFormers not available\n"
     ]
    }
   ],
   "source": [
    "dinov2 = torch.hub.load('facebookresearch/dinov2', 'dinov2_vits14')\n",
    "dinov2 = dinov2.cuda()"
   ]
  },
  {
   "cell_type": "code",
   "execution_count": 3,
   "id": "38f8b4e8",
   "metadata": {},
   "outputs": [],
   "source": [
    "def interpolate_to_patch_size(img_bchw, patch_size):\n",
    "    # Interpolate the image so that H and W are multiples of the patch size\n",
    "    _, _, H, W = img_bchw.shape\n",
    "    target_H = H // patch_size * patch_size\n",
    "    target_W = W // patch_size * patch_size\n",
    "    img_bchw = torch.nn.functional.interpolate(img_bchw, size=(target_H, target_W))\n",
    "    return img_bchw, target_H, target_W\n",
    "\n",
    "transform = T.Compose([\n",
    "    T.ToTensor(),\n",
    "    T.Normalize(mean=[0.5], std=[0.5]),\n",
    "])"
   ]
  },
  {
   "cell_type": "code",
   "execution_count": 4,
   "id": "9648707b",
   "metadata": {},
   "outputs": [],
   "source": [
    "src_base_dir = '/home/roger/gaussian_feature/feat_data/scene0050_00'\n",
    "src_image_dir = os.path.join(src_base_dir, 'images')\n",
    "target_feat_dir = os.path.join(src_base_dir, 'dinov2_vits14')\n",
    "\n",
    "os.makedirs(target_feat_dir, exist_ok=True)"
   ]
  },
  {
   "cell_type": "code",
   "execution_count": 5,
   "id": "57255966",
   "metadata": {},
   "outputs": [
    {
     "name": "stderr",
     "output_type": "stream",
     "text": [
      "100%|██████████| 145/145 [00:29<00:00,  4.88it/s]\n"
     ]
    }
   ],
   "source": [
    "image_fn_list = sorted(os.listdir(src_image_dir))\n",
    "\n",
    "pca = None\n",
    "\n",
    "for image_fn in tqdm(image_fn_list):\n",
    "    image_path = os.path.join(src_image_dir, image_fn)\n",
    "    image = Image.open(image_path)\n",
    "    image = transform(image)[:3].unsqueeze(0)\n",
    "    image, target_H, target_W = interpolate_to_patch_size(image, dinov2.patch_size)\n",
    "    image = image.cuda()\n",
    "    with torch.no_grad():\n",
    "        features = dinov2.forward_features(image)[\"x_norm_patchtokens\"][0]\n",
    "\n",
    "    features = features.cpu().numpy()\n",
    "\n",
    "    features_hwc = features.reshape((target_H // dinov2.patch_size, target_W // dinov2.patch_size, -1))\n",
    "    features_chw = features_hwc.transpose((2, 0, 1))\n",
    "\n",
    "    if pca is None:\n",
    "        pca = PCA(n_components=3)\n",
    "        pca.fit(features)\n",
    "\n",
    "    pca_features = pca.transform(features)\n",
    "    pca_features = (pca_features - pca_features.min()) / (pca_features.max() - pca_features.min())\n",
    "    pca_features = pca_features * 255\n",
    "\n",
    "    pca_features_viz = pca_features.reshape(target_H // dinov2.patch_size, target_W // dinov2.patch_size, 3).astype(np.uint8)\n",
    "\n",
    "    feat_save_path = os.path.join(target_feat_dir, image_fn.replace('.jpg', '.npy'))\n",
    "    feat_viz_save_path = os.path.join(target_feat_dir, image_fn.replace('.jpg', '.png'))\n",
    "\n",
    "    np.save(feat_save_path, features_chw)\n",
    "    Image.fromarray(pca_features_viz).save(feat_viz_save_path)"
   ]
  },
  {
   "cell_type": "code",
   "execution_count": null,
   "id": "3b76a2da",
   "metadata": {},
   "outputs": [],
   "source": []
  }
 ],
 "metadata": {
  "kernelspec": {
   "display_name": "Python 3 (ipykernel)",
   "language": "python",
   "name": "python3"
  },
  "language_info": {
   "codemirror_mode": {
    "name": "ipython",
    "version": 3
   },
   "file_extension": ".py",
   "mimetype": "text/x-python",
   "name": "python",
   "nbconvert_exporter": "python",
   "pygments_lexer": "ipython3",
   "version": "3.8.17"
  }
 },
 "nbformat": 4,
 "nbformat_minor": 5
}
